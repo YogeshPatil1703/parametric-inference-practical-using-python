{
 "cells": [
  {
   "cell_type": "raw",
   "id": "79e1e175-06b7-4008-a612-240214bfc6f6",
   "metadata": {},
   "source": [
    "(𝜇 = 10, 𝜎^2 = 1)\n",
    "i)sample mean(x̄)\n",
    "ii)sample median\n",
    "iii)sample variance\n",
    "iv))1/n∑(xi-x̄)^2\n"
   ]
  },
  {
   "cell_type": "code",
   "execution_count": 5,
   "id": "91a3d596-c92b-4338-87ad-1385bda19dd1",
   "metadata": {
    "scrolled": true
   },
   "outputs": [
    {
     "data": {
      "text/html": [
       "<div>\n",
       "<style scoped>\n",
       "    .dataframe tbody tr th:only-of-type {\n",
       "        vertical-align: middle;\n",
       "    }\n",
       "\n",
       "    .dataframe tbody tr th {\n",
       "        vertical-align: top;\n",
       "    }\n",
       "\n",
       "    .dataframe thead th {\n",
       "        text-align: right;\n",
       "    }\n",
       "</style>\n",
       "<table border=\"1\" class=\"dataframe\">\n",
       "  <thead>\n",
       "    <tr style=\"text-align: right;\">\n",
       "      <th></th>\n",
       "      <th>Sample_size</th>\n",
       "      <th>Mean_T1</th>\n",
       "      <th>Var_T1</th>\n",
       "      <th>Mean_T2</th>\n",
       "      <th>Var_T2</th>\n",
       "      <th>Mean_T3</th>\n",
       "      <th>Var_T3</th>\n",
       "      <th>Mean_T4</th>\n",
       "      <th>Var_T4</th>\n",
       "    </tr>\n",
       "  </thead>\n",
       "  <tbody>\n",
       "    <tr>\n",
       "      <th>0</th>\n",
       "      <td>15</td>\n",
       "      <td>10.005521</td>\n",
       "      <td>0.069370</td>\n",
       "      <td>10.006622</td>\n",
       "      <td>0.106220</td>\n",
       "      <td>0.938773</td>\n",
       "      <td>0.128118</td>\n",
       "      <td>0.876188</td>\n",
       "      <td>0.111605</td>\n",
       "    </tr>\n",
       "    <tr>\n",
       "      <th>1</th>\n",
       "      <td>30</td>\n",
       "      <td>9.995573</td>\n",
       "      <td>0.033210</td>\n",
       "      <td>9.990929</td>\n",
       "      <td>0.047556</td>\n",
       "      <td>0.961687</td>\n",
       "      <td>0.068010</td>\n",
       "      <td>0.929631</td>\n",
       "      <td>0.063551</td>\n",
       "    </tr>\n",
       "    <tr>\n",
       "      <th>2</th>\n",
       "      <td>50</td>\n",
       "      <td>10.005178</td>\n",
       "      <td>0.021078</td>\n",
       "      <td>10.004178</td>\n",
       "      <td>0.031499</td>\n",
       "      <td>0.979088</td>\n",
       "      <td>0.041260</td>\n",
       "      <td>0.959507</td>\n",
       "      <td>0.039626</td>\n",
       "    </tr>\n",
       "    <tr>\n",
       "      <th>3</th>\n",
       "      <td>70</td>\n",
       "      <td>9.995719</td>\n",
       "      <td>0.013836</td>\n",
       "      <td>9.988487</td>\n",
       "      <td>0.021591</td>\n",
       "      <td>0.978723</td>\n",
       "      <td>0.027653</td>\n",
       "      <td>0.964741</td>\n",
       "      <td>0.026869</td>\n",
       "    </tr>\n",
       "  </tbody>\n",
       "</table>\n",
       "</div>"
      ],
      "text/plain": [
       "   Sample_size    Mean_T1    Var_T1    Mean_T2    Var_T2   Mean_T3    Var_T3  \\\n",
       "0           15  10.005521  0.069370  10.006622  0.106220  0.938773  0.128118   \n",
       "1           30   9.995573  0.033210   9.990929  0.047556  0.961687  0.068010   \n",
       "2           50  10.005178  0.021078  10.004178  0.031499  0.979088  0.041260   \n",
       "3           70   9.995719  0.013836   9.988487  0.021591  0.978723  0.027653   \n",
       "\n",
       "    Mean_T4    Var_T4  \n",
       "0  0.876188  0.111605  \n",
       "1  0.929631  0.063551  \n",
       "2  0.959507  0.039626  \n",
       "3  0.964741  0.026869  "
      ]
     },
     "execution_count": 5,
     "metadata": {},
     "output_type": "execute_result"
    }
   ],
   "source": [
    "import numpy as np\n",
    "import pandas as pd\n",
    "n=[15,30,50,70]\n",
    "mean_T1,mean_T2,mean_T3,mean_T4,var_T1,var_T2,var_T3,var_T4=[],[],[],[],[],[],[],[]\n",
    "for i in n:\n",
    "    x=np.random.normal(10,1,1000*i).reshape(1000,i)\n",
    "    T1=np.mean(x,axis=1)\n",
    "    T2=np.median(x,axis=1)\n",
    "    T3=np.var(x,axis=1)\n",
    "    T4=T3*(i-1)/i\n",
    "    mean_T1.append(np.mean(T1))\n",
    "    mean_T2.append(np.mean(T2))\n",
    "    mean_T3.append(np.mean(T3))\n",
    "    mean_T4.append(np.mean(T4))\n",
    "    var_T1.append(np.var(T1))\n",
    "    var_T2.append(np.var(T2))\n",
    "    var_T3.append(np.var(T3))\n",
    "    var_T4.append(np.var(T4))\n",
    "df=pd.DataFrame(data={'Sample_size':n,'Mean_T1':mean_T1,'Var_T1':var_T1,'Mean_T2':mean_T2,'Var_T2':var_T2,'Mean_T3':mean_T3,'Var_T3':var_T3,'Mean_T4':mean_T4,'Var_T4':var_T4})\n",
    "df"
   ]
  },
  {
   "cell_type": "markdown",
   "id": "c7000439-b470-427f-94d0-5e79514d57d4",
   "metadata": {},
   "source": [
    "**Poisson(λ)**"
   ]
  },
  {
   "cell_type": "raw",
   "id": "6f3d3d68-aa99-48af-9523-f96778a637a8",
   "metadata": {},
   "source": [
    "i)sample mean(x̄)\n",
    "ii)sample variance"
   ]
  },
  {
   "cell_type": "code",
   "execution_count": 12,
   "id": "f2417b84-ecfa-40a4-bfe3-bff94309ef0b",
   "metadata": {},
   "outputs": [
    {
     "data": {
      "text/html": [
       "<div>\n",
       "<style scoped>\n",
       "    .dataframe tbody tr th:only-of-type {\n",
       "        vertical-align: middle;\n",
       "    }\n",
       "\n",
       "    .dataframe tbody tr th {\n",
       "        vertical-align: top;\n",
       "    }\n",
       "\n",
       "    .dataframe thead th {\n",
       "        text-align: right;\n",
       "    }\n",
       "</style>\n",
       "<table border=\"1\" class=\"dataframe\">\n",
       "  <thead>\n",
       "    <tr style=\"text-align: right;\">\n",
       "      <th></th>\n",
       "      <th>Sample Size</th>\n",
       "      <th>Mean T1</th>\n",
       "      <th>Var T1</th>\n",
       "      <th>Mean T2</th>\n",
       "      <th>Var T2</th>\n",
       "    </tr>\n",
       "  </thead>\n",
       "  <tbody>\n",
       "    <tr>\n",
       "      <th>0</th>\n",
       "      <td>5</td>\n",
       "      <td>1.4686</td>\n",
       "      <td>0.277334</td>\n",
       "      <td>1.122880</td>\n",
       "      <td>0.774789</td>\n",
       "    </tr>\n",
       "    <tr>\n",
       "      <th>1</th>\n",
       "      <td>15</td>\n",
       "      <td>1.4940</td>\n",
       "      <td>0.103066</td>\n",
       "      <td>1.405698</td>\n",
       "      <td>0.331360</td>\n",
       "    </tr>\n",
       "    <tr>\n",
       "      <th>2</th>\n",
       "      <td>30</td>\n",
       "      <td>1.5076</td>\n",
       "      <td>0.049598</td>\n",
       "      <td>1.471678</td>\n",
       "      <td>0.187894</td>\n",
       "    </tr>\n",
       "  </tbody>\n",
       "</table>\n",
       "</div>"
      ],
      "text/plain": [
       "   Sample Size  Mean T1    Var T1   Mean T2    Var T2\n",
       "0            5   1.4686  0.277334  1.122880  0.774789\n",
       "1           15   1.4940  0.103066  1.405698  0.331360\n",
       "2           30   1.5076  0.049598  1.471678  0.187894"
      ]
     },
     "execution_count": 12,
     "metadata": {},
     "output_type": "execute_result"
    }
   ],
   "source": [
    "import matplotlib.pyplot as plt\n",
    "import numpy as np\n",
    "import pandas as pd\n",
    "lambda1=1.5;\n",
    "n=[5,15,30]\n",
    "mean_T1,mean_T2,var_T1,var_T2=[],[],[],[]\n",
    "for i in n:\n",
    "    x=np.random.poisson(lambda1,1000*i).reshape(1000,i)\n",
    "    T1=np.mean(x,axis=1)\n",
    "    T2=np.var(x,axis=1)\n",
    "    mean_T1.append(np.mean(T1))\n",
    "    mean_T2.append(np.mean(T2))\n",
    "    var_T1.append(np.var(T1))\n",
    "    var_T2.append(np.var(T2))\n",
    "df=pd.DataFrame(data={'Sample Size':n,'Mean T1':mean_T1,'Var T1':var_T1,'Mean T2':mean_T2,'Var T2':var_T2})\n",
    "df"
   ]
  },
  {
   "cell_type": "code",
   "execution_count": 32,
   "id": "f3a5a50e-0427-459e-bbc1-28a2b0960775",
   "metadata": {},
   "outputs": [
    {
     "data": {
      "image/png": "[encoded data removed]",
      "text/plain": [
       "<Figure size 640x480 with 1 Axes>"
      ]
     },
     "metadata": {},
     "output_type": "display_data"
    },
    {
     "data": {
      "image/png": "[encoded data removed]",
      "text/plain": [
       "<Figure size 640x480 with 1 Axes>"
      ]
     },
     "metadata": {},
     "output_type": "display_data"
    }
   ],
   "source": [
    "plt.hist(T1,bins=6,color='blue')\n",
    "plt.title('Histogram of T1')\n",
    "plt.show()\n",
    "plt.hist(T2,bins=6,color='red')\n",
    "plt.title('Histogram of T2')\n",
    "plt.show()"
   ]
  },
  {
   "cell_type": "markdown",
   "id": "7b3152dd-7519-4b2a-a39b-32f063ce543d",
   "metadata": {},
   "source": [
    "**uniform (0,𝜃), 𝜃 > 0**"
   ]
  },
  {
   "cell_type": "raw",
   "id": "1d35e3cb-bdbf-497a-855f-052d64f211ea",
   "metadata": {},
   "source": [
    "i)2x̄\n",
    "ii)X(n)"
   ]
  },
  {
   "cell_type": "code",
   "execution_count": 59,
   "id": "66185511-9700-4d55-884a-7fec970412f5",
   "metadata": {},
   "outputs": [
    {
     "data": {
      "text/html": [
       "<div>\n",
       "<style scoped>\n",
       "    .dataframe tbody tr th:only-of-type {\n",
       "        vertical-align: middle;\n",
       "    }\n",
       "\n",
       "    .dataframe tbody tr th {\n",
       "        vertical-align: top;\n",
       "    }\n",
       "\n",
       "    .dataframe thead th {\n",
       "        text-align: right;\n",
       "    }\n",
       "</style>\n",
       "<table border=\"1\" class=\"dataframe\">\n",
       "  <thead>\n",
       "    <tr style=\"text-align: right;\">\n",
       "      <th></th>\n",
       "      <th>Sample Size</th>\n",
       "      <th>Mean T1</th>\n",
       "      <th>Var T1</th>\n",
       "      <th>Mean T2</th>\n",
       "      <th>Var T2</th>\n",
       "    </tr>\n",
       "  </thead>\n",
       "  <tbody>\n",
       "    <tr>\n",
       "      <th>0</th>\n",
       "      <td>5</td>\n",
       "      <td>2.504924</td>\n",
       "      <td>0.390455</td>\n",
       "      <td>2.093050</td>\n",
       "      <td>0.123491</td>\n",
       "    </tr>\n",
       "    <tr>\n",
       "      <th>1</th>\n",
       "      <td>15</td>\n",
       "      <td>2.490590</td>\n",
       "      <td>0.146907</td>\n",
       "      <td>2.347514</td>\n",
       "      <td>0.020443</td>\n",
       "    </tr>\n",
       "    <tr>\n",
       "      <th>2</th>\n",
       "      <td>30</td>\n",
       "      <td>2.497686</td>\n",
       "      <td>0.073493</td>\n",
       "      <td>2.411982</td>\n",
       "      <td>0.007425</td>\n",
       "    </tr>\n",
       "  </tbody>\n",
       "</table>\n",
       "</div>"
      ],
      "text/plain": [
       "   Sample Size   Mean T1    Var T1   Mean T2    Var T2\n",
       "0            5  2.504924  0.390455  2.093050  0.123491\n",
       "1           15  2.490590  0.146907  2.347514  0.020443\n",
       "2           30  2.497686  0.073493  2.411982  0.007425"
      ]
     },
     "execution_count": 59,
     "metadata": {},
     "output_type": "execute_result"
    }
   ],
   "source": [
    "theta=2.5\n",
    "n=[5,15,30]\n",
    "mean_T1,mean_T2,var_T1,var_T2=[],[],[],[]\n",
    "for i in n:\n",
    "    x=np.random.uniform(0,theta,(1000,i))\n",
    "    T1=2*np.mean(x,axis=1)\n",
    "    T2=np.max(x,axis=1)\n",
    "    mean_T1.append(np.mean(T1))\n",
    "    var_T1.append(np.var(T1))\n",
    "    mean_T2.append(np.mean(T2))\n",
    "    var_T2.append(np.var(T2))\n",
    "df=pd.DataFrame(data={'Sample Size':n,'Mean T1':mean_T1,'Var T1':var_T1,'Mean T2':mean_T2,'Var T2':var_T2})\n",
    "df"
   ]
  },
  {
   "cell_type": "markdown",
   "id": "f06b19e8-2f0a-4193-87da-02559c5f74f3",
   "metadata": {},
   "source": [
    "**Exponentian with location parameter µ**"
   ]
  },
  {
   "cell_type": "raw",
   "id": "41c587bd-26d8-4367-b854-f3264563aae9",
   "metadata": {},
   "source": [
    "i)ꓫ(1)\n",
    "ii)x̄-1"
   ]
  },
  {
   "cell_type": "code",
   "execution_count": 62,
   "id": "b3e709e5-f1ac-4981-ba2f-9520c59b0a69",
   "metadata": {},
   "outputs": [
    {
     "data": {
      "text/html": [
       "<div>\n",
       "<style scoped>\n",
       "    .dataframe tbody tr th:only-of-type {\n",
       "        vertical-align: middle;\n",
       "    }\n",
       "\n",
       "    .dataframe tbody tr th {\n",
       "        vertical-align: top;\n",
       "    }\n",
       "\n",
       "    .dataframe thead th {\n",
       "        text-align: right;\n",
       "    }\n",
       "</style>\n",
       "<table border=\"1\" class=\"dataframe\">\n",
       "  <thead>\n",
       "    <tr style=\"text-align: right;\">\n",
       "      <th></th>\n",
       "      <th>Sample Size</th>\n",
       "      <th>Mean T1</th>\n",
       "      <th>Var T1</th>\n",
       "      <th>Mean T2</th>\n",
       "      <th>Var T2</th>\n",
       "    </tr>\n",
       "  </thead>\n",
       "  <tbody>\n",
       "    <tr>\n",
       "      <th>0</th>\n",
       "      <td>5</td>\n",
       "      <td>2.700038</td>\n",
       "      <td>0.0</td>\n",
       "      <td>2.687182</td>\n",
       "      <td>0.0</td>\n",
       "    </tr>\n",
       "    <tr>\n",
       "      <th>1</th>\n",
       "      <td>15</td>\n",
       "      <td>2.700012</td>\n",
       "      <td>0.0</td>\n",
       "      <td>2.699713</td>\n",
       "      <td>0.0</td>\n",
       "    </tr>\n",
       "    <tr>\n",
       "      <th>2</th>\n",
       "      <td>30</td>\n",
       "      <td>2.700140</td>\n",
       "      <td>0.0</td>\n",
       "      <td>2.702258</td>\n",
       "      <td>0.0</td>\n",
       "    </tr>\n",
       "  </tbody>\n",
       "</table>\n",
       "</div>"
      ],
      "text/plain": [
       "   Sample Size   Mean T1  Var T1   Mean T2  Var T2\n",
       "0            5  2.700038     0.0  2.687182     0.0\n",
       "1           15  2.700012     0.0  2.699713     0.0\n",
       "2           30  2.700140     0.0  2.702258     0.0"
      ]
     },
     "execution_count": 62,
     "metadata": {},
     "output_type": "execute_result"
    }
   ],
   "source": [
    "theta=2.7\n",
    "n=[5,15,30]\n",
    "mean_T1,mean_T2,var_T1,var_T2=[],[],[],[]\n",
    "for i in n:\n",
    "    y=np.random.uniform(0,1,(1000,i))\n",
    "    x=theta-np.log(1-y)\n",
    "    T1=np.min(x)\n",
    "    T2=np.mean(x)-1\n",
    "    mean_T1.append(np.mean(T1))\n",
    "    var_T1.append(np.var(T1))\n",
    "    mean_T2.append(np.mean(T2))\n",
    "    var_T2.append(np.var(T2))\n",
    "df=pd.DataFrame(data={'Sample Size':n,'Mean T1':mean_T1,'Var T1':var_T1,'Mean T2':mean_T2,'Var T2':var_T2})\n",
    "df"
   ]
  },
  {
   "cell_type": "markdown",
   "id": "a82ae302-a858-4ed1-81ab-c24dfb9c343e",
   "metadata": {},
   "source": [
    "**Exponentian with location parameter µ**"
   ]
  },
  {
   "cell_type": "raw",
   "id": "44bb87ac-4997-49c2-85b7-8bdef3f7d454",
   "metadata": {},
   "source": [
    "i)ꓫ(1)\n",
    "ii)x̄-1"
   ]
  },
  {
   "cell_type": "code",
   "execution_count": 66,
   "id": "449f4027-514e-45c1-8bb7-e9955f5d569a",
   "metadata": {},
   "outputs": [
    {
     "data": {
      "text/html": [
       "<div>\n",
       "<style scoped>\n",
       "    .dataframe tbody tr th:only-of-type {\n",
       "        vertical-align: middle;\n",
       "    }\n",
       "\n",
       "    .dataframe tbody tr th {\n",
       "        vertical-align: top;\n",
       "    }\n",
       "\n",
       "    .dataframe thead th {\n",
       "        text-align: right;\n",
       "    }\n",
       "</style>\n",
       "<table border=\"1\" class=\"dataframe\">\n",
       "  <thead>\n",
       "    <tr style=\"text-align: right;\">\n",
       "      <th></th>\n",
       "      <th>Sample Size</th>\n",
       "      <th>Mean T1</th>\n",
       "      <th>Var T1</th>\n",
       "      <th>Mean T2</th>\n",
       "      <th>Var T2</th>\n",
       "    </tr>\n",
       "  </thead>\n",
       "  <tbody>\n",
       "    <tr>\n",
       "      <th>0</th>\n",
       "      <td>5</td>\n",
       "      <td>2.500037</td>\n",
       "      <td>0.0</td>\n",
       "      <td>3.510927</td>\n",
       "      <td>0.0</td>\n",
       "    </tr>\n",
       "    <tr>\n",
       "      <th>1</th>\n",
       "      <td>15</td>\n",
       "      <td>2.500542</td>\n",
       "      <td>0.0</td>\n",
       "      <td>3.481854</td>\n",
       "      <td>0.0</td>\n",
       "    </tr>\n",
       "    <tr>\n",
       "      <th>2</th>\n",
       "      <td>30</td>\n",
       "      <td>2.500090</td>\n",
       "      <td>0.0</td>\n",
       "      <td>3.510770</td>\n",
       "      <td>0.0</td>\n",
       "    </tr>\n",
       "  </tbody>\n",
       "</table>\n",
       "</div>"
      ],
      "text/plain": [
       "   Sample Size   Mean T1  Var T1   Mean T2  Var T2\n",
       "0            5  2.500037     0.0  3.510927     0.0\n",
       "1           15  2.500542     0.0  3.481854     0.0\n",
       "2           30  2.500090     0.0  3.510770     0.0"
      ]
     },
     "execution_count": 66,
     "metadata": {},
     "output_type": "execute_result"
    }
   ],
   "source": [
    "mu=2.5\n",
    "sigma=2\n",
    "n=[5,15,30]\n",
    "mean_T1,mean_T2,var_T1,var_T2=[],[],[],[]\n",
    "for i in n:\n",
    "    y=np.random.uniform(0,1,(1000,i))\n",
    "    x=mu-sigma*np.log(1-y)\n",
    "    T1=np.min(x)\n",
    "    T2=np.mean(x)-1\n",
    "    mean_T1.append(np.mean(T1))\n",
    "    var_T1.append(np.var(T1))\n",
    "    mean_T2.append(np.mean(T2))\n",
    "    var_T2.append(np.var(T2))\n",
    "df=pd.DataFrame(data={'Sample Size':n,'Mean T1':mean_T1,'Var T1':var_T1,'Mean T2':mean_T2,'Var T2':var_T2})\n",
    "df\n",
    "    "
   ]
  },
  {
   "cell_type": "code",
   "execution_count": null,
   "id": "0780e873-0321-41fa-a2e8-ebcd1fbb9f5e",
   "metadata": {},
   "outputs": [],
   "source": []
  }
 ],
 "metadata": {
  "kernelspec": {
   "display_name": "Python 3 (ipykernel)",
   "language": "python",
   "name": "python3"
  },
  "language_info": {
   "codemirror_mode": {
    "name": "ipython",
    "version": 3
   },
   "file_extension": ".py",
   "mimetype": "text/x-python",
   "name": "python",
   "nbconvert_exporter": "python",
   "pygments_lexer": "ipython3",
   "version": "3.12.0"
  }
 },
 "nbformat": 4,
 "nbformat_minor": 5
}
