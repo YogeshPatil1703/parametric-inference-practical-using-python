{
 "cells": [
  {
   "cell_type": "markdown",
   "id": "0ff35cca-9032-4812-a521-cc921ae0227b",
   "metadata": {},
   "source": [
    "**Q1)Normal(𝜇,𝜎^2):\n",
    "i)x̄\n",
    "ii)1/n∑(xi-x̄)^2**"
   ]
  },
  {
   "cell_type": "code",
   "execution_count": 3,
   "id": "216e21f3-4b92-431d-b215-9a38b3e06110",
   "metadata": {},
   "outputs": [
    {
     "data": {
      "text/html": [
       "<div>\n",
       "<style scoped>\n",
       "    .dataframe tbody tr th:only-of-type {\n",
       "        vertical-align: middle;\n",
       "    }\n",
       "\n",
       "    .dataframe tbody tr th {\n",
       "        vertical-align: top;\n",
       "    }\n",
       "\n",
       "    .dataframe thead th {\n",
       "        text-align: right;\n",
       "    }\n",
       "</style>\n",
       "<table border=\"1\" class=\"dataframe\">\n",
       "  <thead>\n",
       "    <tr style=\"text-align: right;\">\n",
       "      <th></th>\n",
       "      <th>Sample Size</th>\n",
       "      <th>x̄</th>\n",
       "      <th>var(x̄)</th>\n",
       "      <th>1/n∑(xi-x̄)</th>\n",
       "      <th>Var(S^2)</th>\n",
       "    </tr>\n",
       "  </thead>\n",
       "  <tbody>\n",
       "    <tr>\n",
       "      <th>0</th>\n",
       "      <td>15</td>\n",
       "      <td>10.005923</td>\n",
       "      <td>0.063364</td>\n",
       "      <td>0.944027</td>\n",
       "      <td>0.133008</td>\n",
       "    </tr>\n",
       "    <tr>\n",
       "      <th>1</th>\n",
       "      <td>30</td>\n",
       "      <td>10.008013</td>\n",
       "      <td>0.033471</td>\n",
       "      <td>0.964106</td>\n",
       "      <td>0.061179</td>\n",
       "    </tr>\n",
       "    <tr>\n",
       "      <th>2</th>\n",
       "      <td>60</td>\n",
       "      <td>9.996748</td>\n",
       "      <td>0.016562</td>\n",
       "      <td>0.981684</td>\n",
       "      <td>0.032551</td>\n",
       "    </tr>\n",
       "  </tbody>\n",
       "</table>\n",
       "</div>"
      ],
      "text/plain": [
       "   Sample Size         x̄   var(x̄)  1/n∑(xi-x̄)  Var(S^2)\n",
       "0           15  10.005923  0.063364     0.944027  0.133008\n",
       "1           30  10.008013  0.033471     0.964106  0.061179\n",
       "2           60   9.996748  0.016562     0.981684  0.032551"
      ]
     },
     "execution_count": 3,
     "metadata": {},
     "output_type": "execute_result"
    }
   ],
   "source": [
    "import numpy as np\n",
    "import pandas as pd\n",
    "mu=10;sigma=1;\n",
    "n=[15,30,60]\n",
    "mean_T1,mean_T2,var_T1,var_T2=[],[],[],[]\n",
    "for i in n:\n",
    "    x=np.random.normal(mu,sigma**2,(1000,i))\n",
    "    mean_T1.append(np.mean(np.mean(x,axis=1)))\n",
    "    mean_T2.append(np.mean(np.var(x,axis=1)))\n",
    "    var_T1.append(np.var(np.mean(x,axis=1)))\n",
    "    var_T2.append(np.var(np.var(x,axis=1)))\n",
    "df=pd.DataFrame(data={'Sample Size':n,'x̄':mean_T1,'var(x̄)':var_T1,'1/n∑(xi-x̄)':mean_T2,'Var(S^2)':var_T2})\n",
    "df"
   ]
  },
  {
   "cell_type": "markdown",
   "id": "346c650a-feaa-43aa-a947-646143d076ba",
   "metadata": {},
   "source": [
    "**Q2)uniform(0, 𝜃), 𝜃 > 0\n",
    ":2x̄**"
   ]
  },
  {
   "cell_type": "code",
   "execution_count": 5,
   "id": "fe7a077b-956b-434f-8c43-63489bba9bfc",
   "metadata": {},
   "outputs": [
    {
     "data": {
      "text/html": [
       "<div>\n",
       "<style scoped>\n",
       "    .dataframe tbody tr th:only-of-type {\n",
       "        vertical-align: middle;\n",
       "    }\n",
       "\n",
       "    .dataframe tbody tr th {\n",
       "        vertical-align: top;\n",
       "    }\n",
       "\n",
       "    .dataframe thead th {\n",
       "        text-align: right;\n",
       "    }\n",
       "</style>\n",
       "<table border=\"1\" class=\"dataframe\">\n",
       "  <thead>\n",
       "    <tr style=\"text-align: right;\">\n",
       "      <th></th>\n",
       "      <th>Sample Size</th>\n",
       "      <th>2x̄</th>\n",
       "      <th>V(2x̄)</th>\n",
       "    </tr>\n",
       "  </thead>\n",
       "  <tbody>\n",
       "    <tr>\n",
       "      <th>0</th>\n",
       "      <td>5</td>\n",
       "      <td>4.982936</td>\n",
       "      <td>1.777067</td>\n",
       "    </tr>\n",
       "    <tr>\n",
       "      <th>1</th>\n",
       "      <td>15</td>\n",
       "      <td>5.006090</td>\n",
       "      <td>0.539687</td>\n",
       "    </tr>\n",
       "    <tr>\n",
       "      <th>2</th>\n",
       "      <td>30</td>\n",
       "      <td>5.017524</td>\n",
       "      <td>0.277073</td>\n",
       "    </tr>\n",
       "    <tr>\n",
       "      <th>3</th>\n",
       "      <td>60</td>\n",
       "      <td>5.008175</td>\n",
       "      <td>0.136090</td>\n",
       "    </tr>\n",
       "  </tbody>\n",
       "</table>\n",
       "</div>"
      ],
      "text/plain": [
       "   Sample Size       2x̄    V(2x̄)\n",
       "0            5  4.982936  1.777067\n",
       "1           15  5.006090  0.539687\n",
       "2           30  5.017524  0.277073\n",
       "3           60  5.008175  0.136090"
      ]
     },
     "execution_count": 5,
     "metadata": {},
     "output_type": "execute_result"
    }
   ],
   "source": [
    "theta=5;\n",
    "n=[5,15,30,60]\n",
    "M_T,V_T=[],[]\n",
    "for i in n:\n",
    "    x=np.random.uniform(0,theta,(1000,i))\n",
    "    M_T.append(np.mean(2*np.mean(x,axis=1)))\n",
    "    V_T.append(np.var(2*np.mean(x,axis=1)))\n",
    "df=pd.DataFrame(data={'Sample Size':n,'2x̄':M_T,'V(2x̄)':V_T})\n",
    "df"
   ]
  },
  {
   "cell_type": "markdown",
   "id": "b880f8e4-3f1d-4b3a-b015-cd91a37ffa2a",
   "metadata": {},
   "source": [
    "**Q3)gamma{𝑥, 𝛼, 𝛽}:\n",
    "i) 𝑚1′/𝑚2\n",
    "ii) 𝑚1′^2/𝑚2**"
   ]
  },
  {
   "cell_type": "code",
   "execution_count": null,
   "id": "74004a04-4f74-43d5-8242-f14bbef28c9c",
   "metadata": {},
   "outputs": [],
   "source": [
    "alpha,lambd=[],[]\n",
    "n=[5,15,30,60]\n",
    "def sum_xsq(x):\n",
    "    sum_xs=sum(x*x)\n",
    "    return(sum_xs/len(n))\n",
    "for i in n:\n",
    "    x=np.random.gamma(1,8,(1000,i))\n",
    "    m1=np.mean(x,axis=1)\n",
    "    m2=np."
   ]
  }
 ],
 "metadata": {
  "kernelspec": {
   "display_name": "Python 3 (ipykernel)",
   "language": "python",
   "name": "python3"
  },
  "language_info": {
   "codemirror_mode": {
    "name": "ipython",
    "version": 3
   },
   "file_extension": ".py",
   "mimetype": "text/x-python",
   "name": "python",
   "nbconvert_exporter": "python",
   "pygments_lexer": "ipython3",
   "version": "3.12.0"
  }
 },
 "nbformat": 4,
 "nbformat_minor": 5
}
